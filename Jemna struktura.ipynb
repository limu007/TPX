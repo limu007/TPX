{
 "metadata": {
  "name": "",
  "signature": "sha256:cf16ec6105afa7e41de1c0e39197d5167651e3f2ba8f58ebea15f00f667747af"
 },
 "nbformat": 3,
 "nbformat_minor": 0,
 "worksheets": [
  {
   "cells": [
    {
     "cell_type": "code",
     "collapsed": false,
     "input": [
      "%pylab inline"
     ],
     "language": "python",
     "metadata": {},
     "outputs": [
      {
       "output_type": "stream",
       "stream": "stdout",
       "text": [
        "Populating the interactive namespace from numpy and matplotlib\n"
       ]
      }
     ],
     "prompt_number": 2
    },
    {
     "cell_type": "markdown",
     "metadata": {},
     "source": [
      "Identifikace p\u00edku\n",
      "-------------------\n",
      "\n",
      "*F. James, kap. 11.5*\n",
      "\n",
      "\n",
      "chceme rozhodnout, zda na pozad\u00ed $b(x,\\theta)$ existuje n\u011bjak\u00e1 \"jemn\u00e1 struktura\" (spektr\u00e1ln\u00ed p\u00edk, zm\u011bna \u010detnosti v \u010dase...) v intervalu AB\n",
      "\n",
      "Pozad\u00ed je fitov\u00e1no n\u011bjakou funkc\u00ed (s vylou\u010den\u00edm int. AB) s odhadovan\u00fdmi parametry $\\hat\\theta$ (a kovar. matic\u00ed $V$), potom o\u010dek\u00e1van\u00e1 hodnota pro *nulovou hypot\u00e9zu* je\n",
      "$$\\hat{b}_{AB} = \\int_A^B b(x,\\hat\\theta) dx$$\n",
      "s rozptylem $\\sigma^2 _{AB} = D^T V D$, kde $$D_i=\\frac{\\partial \\hat{b}_{AB}}{\\partial \\theta_i}$$"
     ]
    },
    {
     "cell_type": "markdown",
     "metadata": {},
     "source": [
      "Testovac\u00ed statistika \n",
      "\n",
      "$$T=\\frac{(n_{AB}-\\hat{b}_{AB})^2}{V(n_{AB}-\\hat{b}_{AB})}$$\n",
      "\n",
      "kde varianci m\u016f\u017eeme uva\u017eovat podle nulov\u00e9 hypot\u00e9zy a Poissonovy statistiky rovnu\n",
      "\n",
      "$$V(n_{AB})=E(n_{AB})=\\hat{b}_{AB}$$"
     ]
    },
    {
     "cell_type": "markdown",
     "metadata": {},
     "source": [
      "Pokud $n_{AB}$ a $\\hat{b}_{AB}$ jsou nekorelov\u00e1ny, \n",
      "plat\u00ed $V(n_{AB}-\\hat{b}_{AB})=\\hat{b}_{AB} + \\sigma^2 _{AB}$.\n",
      "\n",
      "Pro velk\u00e1 $n_{AB}$ m\u00e1 $T$ rozd\u011blen\u00ed $\\chi^2(1)$ s n\u00e1sleduj\u00edc\u00edmi "
     ]
    },
    {
     "cell_type": "code",
     "collapsed": false,
     "input": [
      "from scipy import stats\n",
      "d=r_[1:6]\n",
      "print \"odds:\",zip(d,1/stats.chi(1).sf(d).astype(\"single\"))"
     ],
     "language": "python",
     "metadata": {},
     "outputs": [
      {
       "output_type": "stream",
       "stream": "stdout",
       "text": [
        "odds: [(1, 3.1514871), (2, 21.977894), (3, 370.39835), (4, 15787.192), (5, 1744277.9)]\n"
       ]
      }
     ],
     "prompt_number": 4
    },
    {
     "cell_type": "markdown",
     "metadata": {},
     "source": [
      "Pokud nev\u00edme p\u0159esn\u011b, kde p\u00edk (ud\u00e1lost) hledat, je pravd\u011bpodobnost n\u00e1hodn\u00e9ho nalezen\u00ed sign\u00e1lu v dan\u00e9m intervalu (obsahuj\u00edc\u00edm *k* mo\u017en\u00fdch interval\u016f) v\u011bt\u0161\u00ed ne\u017e v\u00fd\u0161e uveden\u00e1 hodnota $p$\n",
      "\n",
      "$$q=1-(1-p)^k \\approx kp $$"
     ]
    },
    {
     "cell_type": "markdown",
     "metadata": {},
     "source": [
      "Pravd\u011bpodobnost 3-sigma ud\u00e1losti, pokud m\u00e1me na v\u00fdb\u011br z 50 (\u010dasov\u00fdch, spektr\u00e1ln\u00edch atp.) bin\u016f, je najednou 13%. Pokud ov\u0161em takov\u00fdch ud\u00e1lost\u00ed zaregistrujeme v\u00edce, m\u016f\u017eeme se pt\u00e1t, jak\u00e1 je pravd\u011bpodobnost, \u017ee (st\u00e1le p\u0159i platnosti nulov\u00e9 hypot\u00e9zy) p\u0159ekro\u010d\u00ed nap\u0159. $l$ bin\u016f z $k$ v\u00fdznamnost s rizikem $p$:\n",
      "\n",
      "$${k \\choose l} p^l (1-p)^{k-l}$$\n",
      "\n",
      "a pravd\u011bpod., \u017ee jich bude alespo\u0148 $l$\n",
      "\n",
      "$$\\sum_{i=l}^{k} {k \\choose l} p^l (1-p)^{k-l} = 1-\\sum_{i=0}^{l-1} {k \\choose l} p^l (1-p)^{k-l}$$"
     ]
    },
    {
     "cell_type": "code",
     "collapsed": false,
     "input": [
      "#prvnich 10 clenu rady\n",
      "from scipy import misc\n",
      "k=20\n",
      "l=r_[:10]\n",
      "p=1/22.\n",
      "prob20=misc.comb(k,l)*pow(p,l)*pow(1-p,k-l)\n",
      "prob20"
     ],
     "language": "python",
     "metadata": {},
     "outputs": [
      {
       "metadata": {},
       "output_type": "pyout",
       "prompt_number": 7,
       "text": [
        "array([  3.94395797e-01,   3.75615045e-01,   1.69921092e-01,\n",
        "         4.85488834e-02,   9.82536925e-03,   1.49719912e-03,\n",
        "         1.78237991e-04,   1.69750468e-05,   1.31354528e-06,\n",
        "         8.33997006e-08])"
       ]
      }
     ],
     "prompt_number": 7
    },
    {
     "cell_type": "code",
     "collapsed": false,
     "input": [
      "#riziko !nahodneho\" vyskytu alespon l binu pres 2 sigma\n",
      "[\"%.3g\"%g for g in (1-cumsum(prob20))]"
     ],
     "language": "python",
     "metadata": {},
     "outputs": [
      {
       "metadata": {},
       "output_type": "pyout",
       "prompt_number": 12,
       "text": [
        "['0.606',\n",
        " '0.23',\n",
        " '0.0601',\n",
        " '0.0115',\n",
        " '0.00169',\n",
        " '0.000197',\n",
        " '1.84e-05',\n",
        " '1.4e-06',\n",
        " '8.8e-08',\n",
        " '4.56e-09']"
       ]
      }
     ],
     "prompt_number": 12
    }
   ],
   "metadata": {}
  }
 ]
}