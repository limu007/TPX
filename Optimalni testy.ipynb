{
 "metadata": {
  "name": "",
  "signature": "sha256:44874029e3a74c5d4314f31872d498d33fcc44b70c856a9ec492c904a67db331"
 },
 "nbformat": 3,
 "nbformat_minor": 0,
 "worksheets": [
  {
   "cells": [
    {
     "cell_type": "heading",
     "level": 1,
     "metadata": {},
     "source": [
      "Testov\u00e1n\u00ed hypot\u00e9z"
     ]
    },
    {
     "cell_type": "heading",
     "level": 3,
     "metadata": {},
     "source": [
      "Neyman-Pearson test"
     ]
    },
    {
     "cell_type": "markdown",
     "metadata": {},
     "source": [
      "*literatura:*\n",
      "Barlow sec. 8.1.5  \n",
      "James sec. 9.2.4  \n",
      "\n",
      "existuje pouze pro kompletn\u011b specifikovan\u00e9 alternativn\u00ed hypot\u00e9zy; nap\u0159. soubor sest\u00e1v\u00e1 ze 2 druh\u016f materi\u00e1lu\n",
      "\n",
      "vybereme oblast, kde $P_A(x)/P_H(x)>c$ pro n\u011bjak\u00e9 p\u0159edem zvolen\u00e9 $c$.\n",
      "\n",
      "Pro 2 hypot\u00e9zy s gaussovsk\u00fdm rozd\u011blen\u00edm, stejn\u00fdm rozptylem (dominuje nejistota m\u011b\u0159\u00edc\u00edho p\u0159\u00edstroje) a rozd\u00edln\u00fdmi st\u0159edn\u00edmi hodnotami $m_1$ a $m_2$ je pom\u011br roven\n",
      "$$\\exp((m_1-m_2)(m_1+m_2-2x)/2\\sigma^2)>c$$ \n",
      "lze tedy jednodu\u0161e naj\u00edt hranici odd\u011bluj\u00edc\u00ed ob\u011b hypot\u00e9zy"
     ]
    },
    {
     "cell_type": "code",
     "collapsed": false,
     "input": [
      "%pylab inline\n",
      "p=0.5\n",
      "n=15\n",
      "sig=0.1\n",
      "x=r_[:n+1]\n",
      "from scipy.misc import comb\n",
      "w=pow(1-p,x)*pow(p,n-x)*comb(n,x)\n",
      "bar(x,w)"
     ],
     "language": "python",
     "metadata": {},
     "outputs": [
      {
       "output_type": "stream",
       "stream": "stdout",
       "text": [
        "Populating the interactive namespace from numpy and matplotlib\n"
       ]
      },
      {
       "metadata": {},
       "output_type": "pyout",
       "prompt_number": 1,
       "text": [
        "<Container object of 16 artists>"
       ]
      },
      {
       "metadata": {},
       "output_type": "display_data",
       "png": "[encoded data removed]",
       "text": [
        "<matplotlib.figure.Figure at 0x3d949d0>"
       ]
      }
     ],
     "prompt_number": 1
    },
    {
     "cell_type": "markdown",
     "metadata": {},
     "source": [
      "Testujeme binomick\u00e9 rozd\u011blen\u00ed - zda mince d\u00e1v\u00e1 oba mo\u017en\u00e9 v\u00fdsledky se stejnou pravd\u011bpodobnost\u00ed..\n",
      "\n",
      "Nulov\u00e1 hypot\u00e9za: p=0.5.\n",
      "Kolik hod\u016f z n=15 m\u016f\u017ee vyj\u00edt stejn\u011b, aby nebyla zam\u00edtnuta na hlad. v\u00fdznamnosti sig=10%?"
     ]
    },
    {
     "cell_type": "code",
     "collapsed": false,
     "input": [
      "cumw=cumsum(w)\n",
      "sel=cumw>1-sig\n",
      "bar(x[sel],w[sel],fc='red')\n",
      "bar(x[sel==False],w[sel==False],fc='blue')\n",
      "title(\"jednostranny(one-tailed)\")"
     ],
     "language": "python",
     "metadata": {},
     "outputs": [
      {
       "metadata": {},
       "output_type": "pyout",
       "prompt_number": 19,
       "text": [
        "<matplotlib.text.Text at 0x33ce6d0>"
       ]
      },
      {
       "metadata": {},
       "output_type": "display_data",
       "png": "[encoded data removed]",
       "text": [
        "<matplotlib.figure.Figure at 0x3395a90>"
       ]
      }
     ],
     "prompt_number": 19
    },
    {
     "cell_type": "code",
     "collapsed": false,
     "input": [
      "dw=w[:n//2]+w[n-1:n//2:-1]\n",
      "cumdw=cumsum(dw)\n",
      "sel[:]=False\n",
      "sel[:n//2][cumdw<sig]=True\n",
      "print sel[n-1:n//2:-1].shape,cumdw.shape\n",
      "sel[n-1:n//2:-1][cumdw<sig]=True\n",
      "bar(x[sel],w[sel],fc='red')\n",
      "bar(x[sel==False],w[sel==False],fc='blue')\n",
      "title(\"dvoustranny(two-tailed)\")"
     ],
     "language": "python",
     "metadata": {},
     "outputs": [
      {
       "output_type": "stream",
       "stream": "stdout",
       "text": [
        "(7,) (7,)\n"
       ]
      },
      {
       "metadata": {},
       "output_type": "pyout",
       "prompt_number": 26,
       "text": [
        "<matplotlib.text.Text at 0x2dc4d10>"
       ]
      },
      {
       "metadata": {},
       "output_type": "display_data",
       "png": "[encoded data removed]",
       "text": [
        "<matplotlib.figure.Figure at 0x33b1d50>"
       ]
      }
     ],
     "prompt_number": 26
    },
    {
     "cell_type": "code",
     "collapsed": false,
     "input": [
      "sel[n-1:n//2:-1][cumdw>sig]"
     ],
     "language": "python",
     "metadata": {},
     "outputs": [
      {
       "metadata": {},
       "output_type": "pyout",
       "prompt_number": 24,
       "text": [
        "array([ True, False, False], dtype=bool)"
       ]
      }
     ],
     "prompt_number": 24
    },
    {
     "cell_type": "markdown",
     "metadata": {},
     "source": [
      "Typick\u00e1 ot\u00e1zka: *kolik m\u011b\u0159en\u00ed je t\u0159eba prov\u00e9st k dosa\u017een\u00ed po\u017eadovan\u00e9 v\u00fdznamnosti testu?* (Barlow, str. 148)\n",
      "\n",
      "Po\u017eadujme 99% s\u00edlu testu.\n",
      "\n",
      "Pro jednostrann\u00fd test norm. rozd\u011blen\u00ed 5% hranice odpov\u00edd\u00e1 1.64$\\sigma$, 1% hladina v\u00fdznamnosti odpov\u00edd\u00e1 2,33$\\sigma$.\n",
      "Je-li prst. jevu bez vlivu $p_1$ (\u0159ekn\u011bme 60%) a po ovlivn\u011bn\u00ed (nap\u0159. l\u00e9\u010den\u00ed) $p_2$ (70%),mus\u00ed platit\n",
      "$p_1 N + 1.64\\sqrt{p_1(1-p_1)N} < p_2 N - 2.33\\sqrt{p_2(1-p_2)N}$"
     ]
    },
    {
     "cell_type": "code",
     "collapsed": false,
     "input": [
      "N=351\n",
      "p_1=0.6\n",
      "p_1*N + 1.64*sqrt(p_1*(1-p_1)*N)"
     ],
     "language": "python",
     "metadata": {},
     "outputs": [
      {
       "metadata": {},
       "output_type": "pyout",
       "prompt_number": 2,
       "text": [
        "225.6523056041259"
       ]
      }
     ],
     "prompt_number": 2
    }
   ],
   "metadata": {}
  }
 ]
}