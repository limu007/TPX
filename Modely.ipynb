{
 "metadata": {
  "name": "",
  "signature": "sha256:5592cc2ed7652ed51f698b78c9a5d388b388f02b56cc2ed0f9d6b79099f57a24"
 },
 "nbformat": 3,
 "nbformat_minor": 0,
 "worksheets": [
  {
   "cells": [
    {
     "cell_type": "markdown",
     "metadata": {
      "slideshow": {
       "slide_type": "slide"
      }
     },
     "source": [
      "Modely\n",
      "============\n",
      "\n",
      "smysl statistick\u00fdch model\u016f je \n",
      "\n",
      "- redukovat (komprimovat) data - popsat v\u00fdsledek m\u011b\u0159en\u00ed n\u011bkolika parametry\n",
      "- \u010dinit p\u0159edpov\u011bdi - pokud z\u00e1v\u011bry u\u010din\u011bn\u00e9 na dan\u00e9m vzorku extrapolujeme na zbytek populace\n",
      "- lze parametrizovat i simulovan\u00e1 data (u\u0161et\u0159en\u00ed v\u00fdpo\u010detn\u00edho \u010dasu)\n",
      "\n",
      "paradigma: *z\u00edsk\u00e1n\u00ed spolehliv\u00fdch \u00fadaj\u016f z nedokonal\u00fdch dat*\n"
     ]
    },
    {
     "cell_type": "markdown",
     "metadata": {
      "slideshow": {
       "slide_type": "subslide"
      }
     },
     "source": [
      "mohou b\u00fdt \n",
      "\n",
      "- parametrick\u00e9 (tu\u0161\u00edme funk\u010dn\u00ed z\u00e1vislost) \n",
      "- neparametrick\u00e9 (vyhlazov\u00e1n\u00ed / kubick\u00fd spline)\n",
      "\n"
     ]
    },
    {
     "cell_type": "markdown",
     "metadata": {},
     "source": [
      "$Y=r(X) + e$\n",
      "\n",
      "plat\u00ed $E(e)=0$, i kdy\u017e obecn\u011b rozd\u011blen\u00ed $e$ z\u00e1vis\u00ed na $X$\n",
      "\n",
      "z dan\u00e9ho vzorku m\u00e1me jen odhad $\\hat{r}(X)$, kter\u00fd se li\u0161\u00ed od skute\u010dn\u00e9 $r(X)$ vlivem nejistot parametr\u016f\n",
      "\n",
      "$$V(Y-\\hat{r}) = \\sigma^2 +  E((\\hat{r}-r)^2)= \\sigma^2 +  (E(\\hat{r})-r)^2 + V(\\hat{r})$$\n",
      "\n",
      "**bias - variance decomposition** - v\u011bt\u0161\u00ed po\u010det parametr\u016f sni\u017euje rezidua, ale zvy\u0161uje nejistoty modelu (v d\u016fsledku korelac\u00ed parametr\u016f)\n"
     ]
    },
    {
     "cell_type": "markdown",
     "metadata": {},
     "source": [
      "mnohorozm\u011brn\u00e1 regrese je analogi\u00ed vzorce pro prolo\u017een\u00ed p\u0159\u00edmkou ($\\sigma_{xy}/\\sigma_{xx}$)\n",
      "\n",
      "$$\\beta= v^{-1} D(\\vec{X},Y)$$\n",
      "\n",
      "transformace pomoc\u00ed $v^{-1}$ odstra\u0148uje korelace mezi komponentami modelu\n",
      "\n",
      "vektor rezidu\u00ed $Y-\\beta X$ mus\u00ed b\u00fdt dekorelov\u00e1n (ortogon\u00e1ln\u00ed) s vektorem $\\vec{X}$"
     ]
    },
    {
     "cell_type": "markdown",
     "metadata": {
      "slideshow": {
       "slide_type": "slide"
      }
     },
     "source": [
      "konstrukce modelu\n",
      "---------------------\n",
      "\n",
      "m\u00e1me-li diskr\u00e9tn\u00ed hodnoty (kategorie) - m\u016f\u017ee sta\u010dit *prum\u011brov\u00e1n\u00ed* (o\u010dek\u00e1van\u00e1 hodnota) a rozptyl v r\u00e1mci kategorie \n",
      "\n",
      "v praxi sp\u00ed\u0161 hled\u00e1me pro model spojitou funkci (interpolace mezi m\u011b\u0159en\u00fdmi hodnotami)\n",
      "\n",
      "- hled\u00e1me funkce z n\u011bjak\u00e9 mno\u017einy \"rozumn\u00fdch\"\n",
      "\n",
      "ot\u00e1zka \"*jak p\u0159esn\u011b sledujeme data*\" vede k \"bias-variance\" trade-off...\n",
      "\n",
      "line\u00e1rn\u00ed model $r = A H^{-1} A^T Y$ pat\u0159\u00ed do skupiny line\u00e1rn\u00edho vyhlazov\u00e1n\u00ed (*linear smoother*) dan\u00e9ho obecn\u011bj\u0161\u00ed formul\u00ed\n",
      "$$ \\hat{r}(x) = \\sum_i{y_i w(x_i,x)} $$\n",
      "\n",
      "pro lin. model $w(x_i,x)=(x_i/n s^2_x) x$"
     ]
    },
    {
     "cell_type": "markdown",
     "metadata": {
      "slideshow": {
       "slide_type": "slide"
      }
     },
     "source": [
      "#### k-nejbli\u017e\u0161\u00edch soused\u016f\n",
      "\n",
      "$w(x_i,x)=1/k$ pokud jde o jednoho z k soused\u016f bodu $x$, jinak 0\n",
      "\n",
      "#### vyhlazov\u00e1n\u00ed s kernelem\n",
      "\n",
      "$w(x_i,x)=K(x-x_i)/\\sum_j K(x-x_j)$, kde nez\u00e1porn\u00fd **kernel** spl\u0148uje podm\u00ednky\n",
      "$\\int x K(x) dx=0$, $\\int x^2 K(x) dx< \\infty$\n",
      "\n",
      "pro rovnom\u011brn\u011b rozd\u011blen\u00e1 data vypad\u00e1 jako konvoluce"
     ]
    },
    {
     "cell_type": "markdown",
     "metadata": {
      "slideshow": {
       "slide_type": "slide"
      }
     },
     "source": [
      "parametrizace\n",
      "---------------\n",
      "\n",
      "n\u00e1\u0161 odhad parametr\u016f $\\theta$ minimalizuje \"loss function\" $L(\\bf{z}_n;\\theta)$ (m\u016f\u017ee to b\u00fdt nap\u0159. z\u00e1porn\u00fd logaritmus v\u011brohodnosti) \n",
      "v prostoru parametr\u016f; p\u0159itom tato funkce se li\u0161\u00ed od jej\u00ed \"st\u0159edn\u00ed hodnoty\" ur\u010dovan\u00e9 nad celou populac\u00ed dat (a kter\u00e1 by minimalizac\u00ed \n",
      "dala *skute\u010dn\u00e9* hodnoty parametr\u016f)\n",
      "\n",
      "$$L(\\bf{z}_n;\\theta)=E(L(\\bf{Z};\\theta)) + \\eta_n(\\theta)$$\n"
     ]
    },
    {
     "cell_type": "markdown",
     "metadata": {
      "slideshow": {
       "slide_type": "slide"
      }
     },
     "source": [
      "\n",
      "### skryt\u00e9 a p\u0159ebyte\u010dn\u00e9 prom\u011bnn\u00e9\n",
      "\n",
      "rozd\u00edl mezi v\u011brohodnost\u00ed t\u0159\u00eddy $\\pi$ model\u016f obecn\u011bj\u0161\u00edch a $\\rho$ model\u016f s omezen\u00fdmi (fixovan\u00fdmi)\n",
      "parametry je \u00fam\u011brn\u00fd $\\chi^2_{p-q}$ (p-q je po\u010det fixovan\u00fdch parametr\u016f)\n",
      "\n",
      "\n",
      "rezidua jsou z definice nekorelov\u00e1na s modelem (nez\u00e1visl\u00fdmi parametry), nicm\u00e9n\u011b by m\u011bly spl\u0148ovat tak\u00e9 podm\u00ednky pro **b\u00edl\u00fd \u0161um**\n",
      "\n",
      "- norm\u00e1ln\u00ed rozd\u011blen\u00ed\n",
      "- *stejn\u00e9* rozd\u011blen\u00ed (zejm\u00e9na rozptyl) pro r\u016fzn\u00e1 x\n",
      "- navz\u00e1jem nekorelovan\u00e9\n",
      "\n",
      "testov\u00e1n\u00ed dal\u0161\u00edch parametr\u016f \n",
      "\n",
      "- t-test parametr\u016f s nejistotami\n",
      "- F-test t\u0159\u00edd model\u016f\n",
      "\n",
      "kovarian\u010dn\u00ed matice kles\u00e1 s 1/N (objemem m\u011b\u0159en\u00fdch dat), st\u00e1le v\u00edce parametr\u016f m\u016f\u017ee b\u00fdt \n",
      "statisticky v\u00fdznamn\u00fdch, ale skute\u010dn\u00e9 fyzik\u00e1ln\u00ed mechanismy na velikosti vzorku nez\u00e1vis\u00ed\n",
      "\n",
      "- *p\u0159id\u00e1n\u00ed dal\u0161\u00edho parametru do modelu mus\u00ed m\u00edt fyzik\u00e1ln\u00ed opodstatn\u011bn\u00ed*\n",
      "- pouh\u00e1 korelace neznamen\u00e1 p\u0159\u00ed\u010dinnou souvislost\n",
      "- pokud nen\u00ed spln\u011bna podm\u00ednka norm\u00e1lnosti rozd\u011blen\u00ed parametr\u016f, standardn\u00ed testy nepom\u016f\u017eou (lze aplikovat *bootstraping*)\n"
     ]
    },
    {
     "cell_type": "code",
     "collapsed": false,
     "input": [
      "%pylab inline\n",
      "\n",
      "x=r_[-3:3:20j]\n",
      "plot(x,7*x**2-0.5*x,'k')\n",
      "x=uniform(-3,3,20)\n",
      "tres=[7,-.5,0]\n",
      "ytrue=polyval(tres,x)\n",
      "y=ytrue+normal(size=x.shape)\n",
      "plot(x,y,'*')\n",
      "ords=arange(1,10)\n",
      "res=[polyfit(x,y,i,cov=True) for i in ords]\n",
      "[[round(p,3) for p in r[0][::-1]] for r in res]"
     ],
     "language": "python",
     "metadata": {
      "slideshow": {
       "slide_type": "slide"
      }
     },
     "outputs": [
      {
       "output_type": "stream",
       "stream": "stdout",
       "text": [
        "Populating the interactive namespace from numpy and matplotlib\n"
       ]
      },
      {
       "metadata": {},
       "output_type": "pyout",
       "prompt_number": 28,
       "text": [
        "[[19.445, -0.848],\n",
        " [0.022, -0.381, 7.031],\n",
        " [-0.013, -0.663, 7.036, 0.051],\n",
        " [-0.091, -0.563, 7.167, 0.034, -0.018],\n",
        " [-0.044, -0.196, 6.99, -0.208, 0.011, 0.027],\n",
        " [-0.133, 0.009, 7.279, -0.344, -0.109, 0.044, 0.011],\n",
        " [-0.138, -0.413, 7.549, 0.199, -0.248, -0.118, 0.027, 0.013],\n",
        " [-0.307, -0.118, 8.46, -0.133, -0.902, -0.02, 0.171, 0.005, -0.01],\n",
        " [-0.312, -0.361, 8.702, 0.444, -1.099, -0.337, 0.217, 0.065, -0.013, -0.004]]"
       ]
      },
      {
       "metadata": {},
       "output_type": "display_data",
       "png": "[encoded data removed]",
       "text": [
        "<matplotlib.figure.Figure at 0x5b029d0>"
       ]
      }
     ],
     "prompt_number": 28
    },
    {
     "cell_type": "markdown",
     "metadata": {
      "slideshow": {
       "slide_type": "slide"
      }
     },
     "source": [
      "**validace** spo\u010d\u00edv\u00e1 v aplikaci model\u016f na nov\u00fd vzorek dat\n",
      "\n",
      "pokud nem\u00e1me nov\u00fd vzorek, m\u016f\u017eeme d\u011blat podv\u00fdb\u011bry ze st\u00e1vaj\u00edc\u00edho \n",
      "\n",
      "- rozd\u011blen\u00ed na poloviny, obecn\u011bji *k*-d\u00edl\u016f, jeden d\u00edl se pou\u017eije na testov\u00e1n\u00ed\n",
      "- jackknife ([viz](http://nymeria.physics.muni.cz/face/praxis/fdoc/id393/) redukce biasu)\n",
      "- [bootstrap](http://nymeria.physics.muni.cz/face/praxis/fdoc/id394/)"
     ]
    },
    {
     "cell_type": "code",
     "collapsed": false,
     "input": [
      "chi2=r_[[((y-polyval(res[i-1][0],x))**2).sum()/(len(x)) for i in ords]]\n",
      "semilogy(ords,chi2,'s')\n",
      "grid()\n",
      "semilogy(ords,chi2/(len(x)-ords-1)*len(x),'d')\n",
      "ynew=ytrue+normal(size=x.shape)\n",
      "gme=r_[[((ytrue-polyval(res[i-1][0],x))**2).sum()/(len(x)) for i in ords]]\n",
      "semilogy(ords,gme,'o')#,fillcolor=None)\n",
      "valme=r_[[((ynew-polyval(res[i-1][0],x))**2).sum()/(len(x)-i-1) for i in ords]]\n",
      "semilogy(ords,valme,'v')\n",
      "legend(['mse','chi2','gme','valid.'])\n",
      "ylim(0.02,30)"
     ],
     "language": "python",
     "metadata": {
      "slideshow": {
       "slide_type": "slide"
      }
     },
     "outputs": [
      {
       "metadata": {},
       "output_type": "pyout",
       "prompt_number": 38,
       "text": [
        "(0.02, 30)"
       ]
      },
      {
       "metadata": {},
       "output_type": "display_data",
       "png": "[encoded data removed]",
       "text": [
        "<matplotlib.figure.Figure at 0x5b2c510>"
       ]
      }
     ],
     "prompt_number": 38
    },
    {
     "cell_type": "markdown",
     "metadata": {
      "slideshow": {
       "slide_type": "skip"
      }
     },
     "source": [
      "#### obl\u00edben\u00e9 omyly v souvislosti s line\u00e1rn\u00ed regres\u00ed\n",
      "\n",
      "- prom\u011bnn\u00e1 s (v\u00fdznamn\u011b) nenulov\u00fdm koeficientem ovliv\u0148uje v\u00fdsledek\n",
      "- prom\u011bnn\u00e1 s nulov\u00fdm koeficientem nem\u016f\u017ee ovliv\u0148ovat v\u00fdsledek\n",
      "- zm\u011bna prom\u011bnn\u00fdch ovlivn\u00ed v\u00fdsledek podle regresn\u00edho vzorce\n",
      "\n"
     ]
    },
    {
     "cell_type": "markdown",
     "metadata": {},
     "source": [
      "korelace 2 prom\u011bnn\u00fdch je \u010dasto d\u016fsledkem z\u00e1vislosti na t\u0159et\u00edm faktoru\n",
      "problematika v\u00fdznamnosti korelace viz [zde](../Korelace.ipynb)"
     ]
    }
   ],
   "metadata": {}
  }
 ]
}